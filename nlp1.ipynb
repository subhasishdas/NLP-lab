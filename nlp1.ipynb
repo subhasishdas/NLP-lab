{
 "cells": [
  {
   "cell_type": "code",
   "execution_count": 1,
   "metadata": {},
   "outputs": [
    {
     "name": "stdout",
     "output_type": "stream",
     "text": [
      "*** Introductory Examples for the NLTK Book ***\n",
      "Loading text1, ..., text9 and sent1, ..., sent9\n",
      "Type the name of the text or sentence to view it.\n",
      "Type: 'texts()' or 'sents()' to list the materials.\n",
      "text1: Moby Dick by Herman Melville 1851\n",
      "text2: Sense and Sensibility by Jane Austen 1811\n",
      "text3: The Book of Genesis\n",
      "text4: Inaugural Address Corpus\n",
      "text5: Chat Corpus\n",
      "text6: Monty Python and the Holy Grail\n",
      "text7: Wall Street Journal\n",
      "text8: Personals Corpus\n",
      "text9: The Man Who Was Thursday by G . K . Chesterton 1908\n"
     ]
    }
   ],
   "source": [
    "import nltk\n",
    "from nltk.book import*"
   ]
  },
  {
   "cell_type": "code",
   "execution_count": 2,
   "metadata": {},
   "outputs": [
    {
     "data": {
      "text/plain": [
       "[u'adventure',\n",
       " u'belles_lettres',\n",
       " u'editorial',\n",
       " u'fiction',\n",
       " u'government',\n",
       " u'hobbies',\n",
       " u'humor',\n",
       " u'learned',\n",
       " u'lore',\n",
       " u'mystery',\n",
       " u'news',\n",
       " u'religion',\n",
       " u'reviews',\n",
       " u'romance',\n",
       " u'science_fiction']"
      ]
     },
     "execution_count": 2,
     "metadata": {},
     "output_type": "execute_result"
    }
   ],
   "source": [
    "from nltk.corpus import brown\n",
    "brown.categories()"
   ]
  },
  {
   "cell_type": "code",
   "execution_count": 3,
   "metadata": {},
   "outputs": [
    {
     "data": {
      "text/plain": [
       "[u'It', u'was', u'among', u'these', u'that', u'Hinkle', ...]"
      ]
     },
     "execution_count": 3,
     "metadata": {},
     "output_type": "execute_result"
    }
   ],
   "source": [
    "brown.words(categories='humor')"
   ]
  },
  {
   "cell_type": "code",
   "execution_count": 4,
   "metadata": {},
   "outputs": [
    {
     "data": {
      "text/plain": [
       "[u'It',\n",
       " u'was',\n",
       " u'among',\n",
       " u'these',\n",
       " u'that',\n",
       " u'Hinkle',\n",
       " u'identified',\n",
       " u'a',\n",
       " u'photograph',\n",
       " u'of',\n",
       " u'Barco',\n",
       " u'!',\n",
       " u'!',\n",
       " u'For',\n",
       " u'it',\n",
       " u'seems',\n",
       " u'that',\n",
       " u'Barco',\n",
       " u',',\n",
       " u'fancying']"
      ]
     },
     "execution_count": 4,
     "metadata": {},
     "output_type": "execute_result"
    }
   ],
   "source": [
    "brown.words(categories='humor')[:20]"
   ]
  },
  {
   "cell_type": "code",
   "execution_count": 5,
   "metadata": {
    "collapsed": true
   },
   "outputs": [
    {
     "data": {
      "text/plain": [
       "[u'1789-Washington.txt',\n",
       " u'1793-Washington.txt',\n",
       " u'1797-Adams.txt',\n",
       " u'1801-Jefferson.txt',\n",
       " u'1805-Jefferson.txt',\n",
       " u'1809-Madison.txt',\n",
       " u'1813-Madison.txt',\n",
       " u'1817-Monroe.txt',\n",
       " u'1821-Monroe.txt',\n",
       " u'1825-Adams.txt',\n",
       " u'1829-Jackson.txt',\n",
       " u'1833-Jackson.txt',\n",
       " u'1837-VanBuren.txt',\n",
       " u'1841-Harrison.txt',\n",
       " u'1845-Polk.txt',\n",
       " u'1849-Taylor.txt',\n",
       " u'1853-Pierce.txt',\n",
       " u'1857-Buchanan.txt',\n",
       " u'1861-Lincoln.txt',\n",
       " u'1865-Lincoln.txt',\n",
       " u'1869-Grant.txt',\n",
       " u'1873-Grant.txt',\n",
       " u'1877-Hayes.txt',\n",
       " u'1881-Garfield.txt',\n",
       " u'1885-Cleveland.txt',\n",
       " u'1889-Harrison.txt',\n",
       " u'1893-Cleveland.txt',\n",
       " u'1897-McKinley.txt',\n",
       " u'1901-McKinley.txt',\n",
       " u'1905-Roosevelt.txt',\n",
       " u'1909-Taft.txt',\n",
       " u'1913-Wilson.txt',\n",
       " u'1917-Wilson.txt',\n",
       " u'1921-Harding.txt',\n",
       " u'1925-Coolidge.txt',\n",
       " u'1929-Hoover.txt',\n",
       " u'1933-Roosevelt.txt',\n",
       " u'1937-Roosevelt.txt',\n",
       " u'1941-Roosevelt.txt',\n",
       " u'1945-Roosevelt.txt',\n",
       " u'1949-Truman.txt',\n",
       " u'1953-Eisenhower.txt',\n",
       " u'1957-Eisenhower.txt',\n",
       " u'1961-Kennedy.txt',\n",
       " u'1965-Johnson.txt',\n",
       " u'1969-Nixon.txt',\n",
       " u'1973-Nixon.txt',\n",
       " u'1977-Carter.txt',\n",
       " u'1981-Reagan.txt',\n",
       " u'1985-Reagan.txt',\n",
       " u'1989-Bush.txt',\n",
       " u'1993-Clinton.txt',\n",
       " u'1997-Clinton.txt',\n",
       " u'2001-Bush.txt',\n",
       " u'2005-Bush.txt',\n",
       " u'2009-Obama.txt']"
      ]
     },
     "execution_count": 5,
     "metadata": {},
     "output_type": "execute_result"
    }
   ],
   "source": [
    "from nltk.corpus import inaugural\n",
    "inaugural.fileids()"
   ]
  },
  {
   "cell_type": "code",
   "execution_count": 6,
   "metadata": {},
   "outputs": [
    {
     "data": {
      "text/plain": [
       "[u'My', u'fellow', u'citizens', u':', u'I', u'stand', ...]"
      ]
     },
     "execution_count": 6,
     "metadata": {},
     "output_type": "execute_result"
    }
   ],
   "source": [
    "inaugural.words(fileids='2009-Obama.txt')"
   ]
  },
  {
   "cell_type": "code",
   "execution_count": 2,
   "metadata": {},
   "outputs": [
    {
     "data": {
      "text/plain": [
       "[u'My',\n",
       " u'fellow',\n",
       " u'citizens',\n",
       " u':',\n",
       " u'I',\n",
       " u'stand',\n",
       " u'here',\n",
       " u'today',\n",
       " u'humbled',\n",
       " u'by',\n",
       " u'the',\n",
       " u'task',\n",
       " u'before',\n",
       " u'us',\n",
       " u',',\n",
       " u'grateful',\n",
       " u'for',\n",
       " u'the',\n",
       " u'trust',\n",
       " u'you',\n",
       " u'have',\n",
       " u'bestowed',\n",
       " u',',\n",
       " u'mindful',\n",
       " u'of',\n",
       " u'the',\n",
       " u'sacrifices',\n",
       " u'borne',\n",
       " u'by',\n",
       " u'our',\n",
       " u'ancestors',\n",
       " u'.',\n",
       " u'I',\n",
       " u'thank',\n",
       " u'President',\n",
       " u'Bush',\n",
       " u'for',\n",
       " u'his',\n",
       " u'service',\n",
       " u'to',\n",
       " u'our',\n",
       " u'nation',\n",
       " u',',\n",
       " u'as',\n",
       " u'well',\n",
       " u'as',\n",
       " u'the',\n",
       " u'generosity',\n",
       " u'and',\n",
       " u'cooperation',\n",
       " u'he',\n",
       " u'has',\n",
       " u'shown',\n",
       " u'throughout',\n",
       " u'this',\n",
       " u'transition',\n",
       " u'.',\n",
       " u'Forty',\n",
       " u'-',\n",
       " u'four',\n",
       " u'Americans',\n",
       " u'have',\n",
       " u'now',\n",
       " u'taken',\n",
       " u'the',\n",
       " u'presidential',\n",
       " u'oath',\n",
       " u'.',\n",
       " u'The',\n",
       " u'words',\n",
       " u'have',\n",
       " u'been',\n",
       " u'spoken',\n",
       " u'during',\n",
       " u'rising',\n",
       " u'tides',\n",
       " u'of',\n",
       " u'prosperity',\n",
       " u'and',\n",
       " u'the',\n",
       " u'still',\n",
       " u'waters',\n",
       " u'of',\n",
       " u'peace',\n",
       " u'.',\n",
       " u'Yet',\n",
       " u',',\n",
       " u'every',\n",
       " u'so',\n",
       " u'often',\n",
       " u'the',\n",
       " u'oath',\n",
       " u'is',\n",
       " u'taken',\n",
       " u'amidst',\n",
       " u'gathering',\n",
       " u'clouds',\n",
       " u'and',\n",
       " u'raging',\n",
       " u'storms']"
      ]
     },
     "execution_count": 2,
     "metadata": {},
     "output_type": "execute_result"
    }
   ],
   "source": [
    "from nltk.corpus import inaugural\n",
    "inaugural.words(fileids='2009-Obama.txt')[:100]"
   ]
  },
  {
   "cell_type": "code",
   "execution_count": 8,
   "metadata": {},
   "outputs": [
    {
     "data": {
      "text/plain": [
       "[u'acq',\n",
       " u'alum',\n",
       " u'barley',\n",
       " u'bop',\n",
       " u'carcass',\n",
       " u'castor-oil',\n",
       " u'cocoa',\n",
       " u'coconut',\n",
       " u'coconut-oil',\n",
       " u'coffee',\n",
       " u'copper',\n",
       " u'copra-cake',\n",
       " u'corn',\n",
       " u'cotton',\n",
       " u'cotton-oil',\n",
       " u'cpi',\n",
       " u'cpu',\n",
       " u'crude',\n",
       " u'dfl',\n",
       " u'dlr',\n",
       " u'dmk',\n",
       " u'earn',\n",
       " u'fuel',\n",
       " u'gas',\n",
       " u'gnp',\n",
       " u'gold',\n",
       " u'grain',\n",
       " u'groundnut',\n",
       " u'groundnut-oil',\n",
       " u'heat',\n",
       " u'hog',\n",
       " u'housing',\n",
       " u'income',\n",
       " u'instal-debt',\n",
       " u'interest',\n",
       " u'ipi',\n",
       " u'iron-steel',\n",
       " u'jet',\n",
       " u'jobs',\n",
       " u'l-cattle',\n",
       " u'lead',\n",
       " u'lei',\n",
       " u'lin-oil',\n",
       " u'livestock',\n",
       " u'lumber',\n",
       " u'meal-feed',\n",
       " u'money-fx',\n",
       " u'money-supply',\n",
       " u'naphtha',\n",
       " u'nat-gas',\n",
       " u'nickel',\n",
       " u'nkr',\n",
       " u'nzdlr',\n",
       " u'oat',\n",
       " u'oilseed',\n",
       " u'orange',\n",
       " u'palladium',\n",
       " u'palm-oil',\n",
       " u'palmkernel',\n",
       " u'pet-chem',\n",
       " u'platinum',\n",
       " u'potato',\n",
       " u'propane',\n",
       " u'rand',\n",
       " u'rape-oil',\n",
       " u'rapeseed',\n",
       " u'reserves',\n",
       " u'retail',\n",
       " u'rice',\n",
       " u'rubber',\n",
       " u'rye',\n",
       " u'ship',\n",
       " u'silver',\n",
       " u'sorghum',\n",
       " u'soy-meal',\n",
       " u'soy-oil',\n",
       " u'soybean',\n",
       " u'strategic-metal',\n",
       " u'sugar',\n",
       " u'sun-meal',\n",
       " u'sun-oil',\n",
       " u'sunseed',\n",
       " u'tea',\n",
       " u'tin',\n",
       " u'trade',\n",
       " u'veg-oil',\n",
       " u'wheat',\n",
       " u'wpi',\n",
       " u'yen',\n",
       " u'zinc']"
      ]
     },
     "execution_count": 8,
     "metadata": {},
     "output_type": "execute_result"
    }
   ],
   "source": [
    "from nltk.corpus import reuters\n",
    "reuters.categories()"
   ]
  },
  {
   "cell_type": "code",
   "execution_count": 9,
   "metadata": {},
   "outputs": [
    {
     "name": "stdout",
     "output_type": "stream",
     "text": [
      "[('Jermaine', 'NNP'), ('Jenas', 'NNP'), ('could', 'MD'), ('not', 'RB'), ('contain', 'VB'), ('his', 'PRP$'), ('delight', 'NN'), ('after', 'IN'), ('watching', 'VBG'), ('Tottenham', 'NNP'), ('Hotspur', 'NNP'), ('dismantle', 'NN'), ('rivals', 'NNS'), ('Arsenal', 'NNP'), ('in', 'IN'), ('the', 'DT'), ('Carabao', 'NNP'), ('Cup', 'NNP'), ('quarter', 'NN'), ('final', 'JJ'), ('last', 'JJ'), ('night', 'NN'), ('.', '.')]\n",
      "[('The', 'DT'), ('former', 'JJ'), ('Spurs', 'NNP'), ('midfielder', 'NN'), ('who', 'WP'), ('now', 'RB'), ('works', 'VBZ'), ('as', 'IN'), ('a', 'DT'), ('pundit', 'NN'), ('was', 'VBD'), ('watching', 'VBG'), ('the', 'DT'), ('game', 'NN'), ('from', 'IN'), ('the', 'DT'), ('comfort', 'NN'), ('of', 'IN'), ('his', 'PRP$'), ('own', 'JJ'), ('home', 'NN'), ('and', 'CC'), ('his', 'PRP$'), ('celebration', 'NN'), ('for', 'IN'), ('Dele', 'NNP'), ('Alli\\xe2\\x80\\x99s', 'NNP'), ('stunning', 'VBG'), ('chip', 'NN'), ('over', 'IN'), ('the', 'DT'), ('head', 'NN'), ('of', 'IN'), ('Petr', 'NNP'), ('Cech', 'NNP'), ('was', 'VBD'), ('captured', 'VBN'), ('on', 'IN'), ('video', 'NN'), ('.', '.')]\n",
      "[('Jenas', 'NNP'), ('praise', 'NN'), ('for', 'IN'), ('the', 'DT'), ('opening', 'NN'), ('goal', 'NN'), ('along', 'IN'), ('with', 'IN'), ('some', 'DT'), ('extra', 'JJ'), ('words', 'NNS'), ('for', 'IN'), ('both', 'DT'), ('Dele', 'NNP'), ('and', 'CC'), ('the', 'DT'), ('part', 'NN'), ('which', 'WDT'), ('substitute', 'NN'), ('Harry', 'NNP'), ('Kane', 'NNP'), ('played', 'VBD'), ('in', 'IN'), ('setting', 'VBG'), ('up', 'RP'), ('the', 'DT'), ('goal', 'NN'), ('with', 'IN'), ('a', 'DT'), ('sublime', 'JJ'), ('pass', 'NN'), ('to', 'TO'), ('the', 'DT'), ('midfielder', 'NN'), ('is', 'VBZ'), ('certainly', 'RB'), ('well', 'RB'), ('worth', 'IN'), ('a', 'DT'), ('watch', 'NN'), ('.', '.')]\n"
     ]
    }
   ],
   "source": [
    "import nltk\n",
    "texts=[\"\"\"Jermaine Jenas could not contain his delight after watching Tottenham Hotspur dismantle rivals Arsenal in the Carabao Cup quarter final last night.\n",
    "The former Spurs midfielder who now works as a pundit was watching the game from the comfort of his own home and his celebration for Dele Alli’s stunning chip over the head of Petr Cech was captured on video.\n",
    "Jenas praise for the opening goal along with some extra words for both Dele and the part which substitute Harry Kane played in setting up the goal with a sublime pass to the midfielder is certainly well worth a watch.\"\"\"]\n",
    "for text in texts:\n",
    "    sentences=nltk.sent_tokenize(text)\n",
    "    for sentence in sentences:\n",
    "        words=nltk.word_tokenize(sentence)\n",
    "        tagged=nltk.pos_tag(words)\n",
    "        print(tagged)"
   ]
  },
  {
   "cell_type": "code",
   "execution_count": null,
   "metadata": {
    "collapsed": true
   },
   "outputs": [],
   "source": []
  }
 ],
 "metadata": {
  "kernelspec": {
   "display_name": "Python 2",
   "language": "python",
   "name": "python2"
  },
  "language_info": {
   "codemirror_mode": {
    "name": "ipython",
    "version": 2
   },
   "file_extension": ".py",
   "mimetype": "text/x-python",
   "name": "python",
   "nbconvert_exporter": "python",
   "pygments_lexer": "ipython2",
   "version": "2.7.14"
  }
 },
 "nbformat": 4,
 "nbformat_minor": 2
}
