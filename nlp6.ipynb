{
 "cells": [
  {
   "cell_type": "code",
   "execution_count": 25,
   "metadata": {},
   "outputs": [],
   "source": [
    "s1=[\"One of the finer books I read this 1 year was John Kaag's Hiking With Nietzsche. in which Kaag. a professor of philosophy. rekindles his passion for the German thinker while tracing picturesque hiking trails in the mountains of Switzerland. It's a near-precise rendering of the travelogue as a self .help book. A young Kaag was an avowed Nietzsche acolyte but given the ravages of responsibilities and adulthood. the writer put his affinity to test by undertaking physically enduring hikes through the Alps. revisiting haunts that the philosopher escaped to. in search of solitude and salve. The journeys demands. coupled with his own inner turmoil. are catnip for anybody feeling at cross purposes with their own life.\"]\n",
    "s2=[\"If there is a phrase I would prefer to retire from online bios, personal or professional, it is. 'I love travel.' Or some approximation of that sentiment. To clarify. I am not against travellers or those who proudly flaunt their passion for travel. On the contrary, editing a travel magazine has now made me oddly protective of travellers and their ilk. My submission is that 'love to travel.' suggested so casually, just doesn't feel adequate to the depth of emotion it sparks in true devotees. \"]\n",
    "s3=[\"summer is a charming flirt. Easy-going and casual. Summer doesn't , huff and puff to win our affections. it has us at 'Hello.' Winter broods like the tortured protagonist of big fat Russian novel. It is daunting and dramatic,b urning with a slow intensity.The season's reputation precedes itself and often, not in a good way. It has a way of whittling down everything to its bare bones. Even relationships not attuned to its ebbs and flows can fray.\"]"
   ]
  },
  {
   "cell_type": "code",
   "execution_count": 21,
   "metadata": {},
   "outputs": [],
   "source": [
    "import nltk\n",
    "from nltk.stem import WordNetLemmatizer\n",
    "lemmatizer= WordNetLemmatizer()\n",
    "s1=[lemmatizer.lemmatize(token) for token in s1.split(\" \")]\n",
    "s2=[lemmatizer.lemmatize(token) for token in s2.split(\" \")]\n",
    "s3=[lemmatizer.lemmatize(token) for token in s3.split(\" \")]\n"
   ]
  },
  {
   "cell_type": "code",
   "execution_count": 26,
   "metadata": {},
   "outputs": [],
   "source": [
    "from sklearn.feature_extraction.text import CountVectorizer\n",
    "vect=CountVectorizer(binary=True)"
   ]
  },
  {
   "cell_type": "code",
   "execution_count": 27,
   "metadata": {},
   "outputs": [
    {
     "data": {
      "text/plain": [
       "CountVectorizer(analyzer=u'word', binary=True, decode_error=u'strict',\n",
       "        dtype=<type 'numpy.int64'>, encoding=u'utf-8', input=u'content',\n",
       "        lowercase=True, max_df=1.0, max_features=None, min_df=1,\n",
       "        ngram_range=(1, 1), preprocessor=None, stop_words=None,\n",
       "        strip_accents=None, token_pattern=u'(?u)\\\\b\\\\w\\\\w+\\\\b',\n",
       "        tokenizer=None, vocabulary=None)"
      ]
     },
     "execution_count": 27,
     "metadata": {},
     "output_type": "execute_result"
    }
   ],
   "source": [
    "vect.fit(s1)"
   ]
  },
  {
   "cell_type": "code",
   "execution_count": 28,
   "metadata": {},
   "outputs": [
    {
     "name": "stdout",
     "output_type": "stream",
     "text": [
      "[[ 0.3086067]]\n"
     ]
    }
   ],
   "source": [
    "similarity=cosine_similarity(vect.transform(s1).toarray(),vect.transform(s3).toarray())\n",
    "print(similarity)"
   ]
  },
  {
   "cell_type": "code",
   "execution_count": null,
   "metadata": {
    "collapsed": true
   },
   "outputs": [],
   "source": []
  }
 ],
 "metadata": {
  "kernelspec": {
   "display_name": "Python 2",
   "language": "python",
   "name": "python2"
  },
  "language_info": {
   "codemirror_mode": {
    "name": "ipython",
    "version": 2
   },
   "file_extension": ".py",
   "mimetype": "text/x-python",
   "name": "python",
   "nbconvert_exporter": "python",
   "pygments_lexer": "ipython2",
   "version": "2.7.14"
  }
 },
 "nbformat": 4,
 "nbformat_minor": 2
}
