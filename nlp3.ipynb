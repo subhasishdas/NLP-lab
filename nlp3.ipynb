{
 "cells": [
  {
   "cell_type": "code",
   "execution_count": 52,
   "metadata": {},
   "outputs": [
    {
     "name": "stdout",
     "output_type": "stream",
     "text": [
      "late\n",
      "shini\n",
      "die\n",
      "fli\n",
      "post-sess\n",
      "muscl\n",
      "macaqu\n",
      "late\n",
      "juble\n",
      "crazi\n"
     ]
    }
   ],
   "source": [
    "import nltk\n",
    "from nltk.stem import PorterStemmer\n",
    "st=PorterStemmer()\n",
    "print(st.stem('lately'))\n",
    "print(st.stem('shiny'))\n",
    "print(st.stem('dies'))\n",
    "print(st.stem('fly'))\n",
    "print(st.stem('post-session'))\n",
    "print(st.stem('muscle'))\n",
    "print(st.stem('macaque'))\n",
    "print(st.stem('late'))\n",
    "print(st.stem('jublee'))"
   ]
  },
  {
   "cell_type": "raw",
   "metadata": {},
   "source": []
  },
  {
   "cell_type": "code",
   "execution_count": 48,
   "metadata": {},
   "outputs": [
    {
     "name": "stdout",
     "output_type": "stream",
     "text": [
      "late\n",
      "shini\n",
      "die\n",
      "fli\n",
      "post-sess\n",
      "muscl\n",
      "macaqu\n",
      "late\n",
      "juble\n"
     ]
    }
   ],
   "source": [
    "import nltk\n",
    "from nltk.stem import SnowballStemmer\n",
    "SnowballStemmer.languages\n",
    "st=SnowballStemmer('english')\n",
    "print(st.stem('lately'))\n",
    "print(st.stem('shiny'))\n",
    "print(st.stem('dies'))\n",
    "print(st.stem('fly'))\n",
    "print(st.stem('post-session'))\n",
    "print(st.stem('muscle'))\n",
    "print(st.stem('macaque'))\n",
    "print(st.stem('late'))\n",
    "print(st.stem('jublee'))"
   ]
  },
  {
   "cell_type": "code",
   "execution_count": 51,
   "metadata": {},
   "outputs": [
    {
     "name": "stdout",
     "output_type": "stream",
     "text": [
      "lat\n",
      "shiny\n",
      "fil\n",
      "fly\n",
      "musc\n",
      "lat\n",
      "macaqu\n",
      "jubl\n",
      "juvenil\n",
      "crazy\n"
     ]
    }
   ],
   "source": [
    "import nltk\n",
    "from nltk.stem import LancasterStemmer\n",
    "st=LancasterStemmer()\n",
    "st.stem('happiness')\n",
    "print(st.stem('lately'))\n",
    "print(st.stem('shiny'))\n",
    "print(st.stem('files'))\n",
    "print(st.stem('fly'))\n",
    "print(st.stem('muscle'))\n",
    "print(st.stem('late'))\n",
    "print(st.stem('macaque'))\n",
    "print(st.stem('jublee'))\n",
    "print(st.stem('juvenile'))"
   ]
  },
  {
   "cell_type": "code",
   "execution_count": 53,
   "metadata": {},
   "outputs": [
    {
     "name": "stdout",
     "output_type": "stream",
     "text": [
      "PorterStemmer  SnowballStemmer  LancasterStemmer\n",
      "game            game           gam\n",
      "game            game           gam\n",
      "game            game           gam\n",
      "game            game           gam\n",
      "leav            leav           leav\n",
      "fairli            fair           fair\n",
      "fairli            fair           fair\n",
      "sing            sing           sing\n",
      "colon            colon           colon\n",
      "tradit            tradit           tradit\n",
      "unhappi            unhappi           unhappy\n",
      "size            size           siz\n",
      "jubile            jubile           jubl\n",
      "late            late           lat\n"
     ]
    }
   ],
   "source": [
    "from nltk.stem import PorterStemmer\n",
    "from nltk.tokenize import sent_tokenize, word_tokenize\n",
    "import nltk\n",
    "from nltk.stem import PorterStemmer\n",
    "from nltk.stem import LancasterStemmer\n",
    "from nltk.stem.snowball import SnowballStemmer\n",
    "#st=PorterStemmer()\n",
    "st = SnowballStemmer(\"english\")\n",
    "words = [\"game\",\"gaming\",\"gamed\",\"games\",\"leaves\",\"fairly\",\"Fairly\",\"singing\",\"colonizer\",\"traditional\",\"Unhappy\",\"size\",\"jubilee\",\n",
    "        \"late\"]\n",
    "ps = PorterStemmer()\n",
    "lt= LancasterStemmer()\n",
    " \n",
    "print(\"PorterStemmer  SnowballStemmer  LancasterStemmer\")    \n",
    "for word in words:\n",
    "    print(ps.stem(word)+\"            \"+st.stem(word)+\"           \"+lt.stem(word))\n",
    "#print(\"SnowballStemmer\")        \n",
    "#for word in words:\n",
    "#    print(st.stem(word))  "
   ]
  },
  {
   "cell_type": "code",
   "execution_count": null,
   "metadata": {
    "collapsed": true
   },
   "outputs": [],
   "source": []
  }
 ],
 "metadata": {
  "kernelspec": {
   "display_name": "Python 2",
   "language": "python",
   "name": "python2"
  },
  "language_info": {
   "codemirror_mode": {
    "name": "ipython",
    "version": 2
   },
   "file_extension": ".py",
   "mimetype": "text/x-python",
   "name": "python",
   "nbconvert_exporter": "python",
   "pygments_lexer": "ipython2",
   "version": "2.7.14"
  }
 },
 "nbformat": 4,
 "nbformat_minor": 2
}
